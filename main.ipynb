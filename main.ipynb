{
 "cells": [
  {
   "cell_type": "markdown",
   "metadata": {},
   "source": [
    "# Pseudocode\n",
    "\n",
    "```\n",
    "Find pivot P\n",
    "Sort Points by angle (resolve ties in favor of point farther from P)\n",
    "\n",
    "// Points[1] is the pivot\n",
    "Stack.push(Points[1]);\n",
    "Stack.push(Points[2]);\n",
    "FOR i = 3 TO Points.length\n",
    "  o <- Cross_product(Stack.second, Stack.top, Points[i]);\n",
    "  IF o == 0 THEN\n",
    "    Stack.pop;\n",
    "    Stack.push(Points[i]);\n",
    "  ELSEIF o > 0 THEN\n",
    "    Stack.push(Points[i]);\n",
    "  ELSE\n",
    "    WHILE o <= 0 and Stack.length > 2\n",
    "      Stack.pop;\n",
    "      o <- Cross_product(Stack.second, Stack.top, Points[i]);\n",
    "    ENDWHILE\n",
    "    Stack.push(Points[i]);\n",
    "  ENDIF\n",
    "NEXT i\n",
    "\n",
    "FUNCTION Cross_product(p1, p2, p3)\n",
    "  RETURN (p2.x - p1.x)*(p3.y - p1.y) - (p3.x - p1.x)*(p2.y - p1.y);\n",
    "ENDFUNCTION\n",
    "\n",
    "```"
   ]
  },
  {
   "cell_type": "markdown",
   "metadata": {},
   "source": [
    "# Generating Case Tests"
   ]
  },
  {
   "cell_type": "code",
   "execution_count": null,
   "metadata": {},
   "outputs": [],
   "source": [
    "import random\n",
    "import plotly.express as px\n",
    "import math\n",
    "import numpy as np\n",
    "import plotly.graph_objects as go\n",
    "\n",
    "n = 20 # amount of points\n",
    "points = np.array([[random.randint(0,n*10), random.randint(0,n*10)] for i in range (0, n)])\n",
    "points = np.unique(points, axis=0) # removing possible duplicates\n",
    "\n",
    "fig = go.Figure()\n",
    "fig.add_trace(go.Scatter(x=points[:,0], y=points[:,1], text=[f\"P({x},{y})\" for x,y in points],\n",
    "                    textposition=\"bottom center\",\n",
    "                    mode='markers+text', name='markers'))\n",
    "fig.update_layout(autosize=False, width=500, height=500, margin=dict(l=25, r=25, b=25, t=25, pad=2), xaxis_range=[-5,n*10], yaxis_range=[-5,n*10])"
   ]
  },
  {
   "cell_type": "markdown",
   "metadata": {},
   "source": [
    "Setting start time"
   ]
  },
  {
   "cell_type": "code",
   "execution_count": null,
   "metadata": {},
   "outputs": [],
   "source": [
    "import time\n",
    "start = time.time()"
   ]
  },
  {
   "cell_type": "markdown",
   "metadata": {},
   "source": [
    "## Finding Pivot (P0) - O(nlogn)"
   ]
  },
  {
   "cell_type": "code",
   "execution_count": null,
   "metadata": {},
   "outputs": [],
   "source": [
    "y_sorted_points = np.array(sorted(points, key=lambda tup: [tup[1], tup[0]]))\n",
    "P0 = y_sorted_points[0]\n",
    "# P0"
   ]
  },
  {
   "cell_type": "markdown",
   "metadata": {},
   "source": [
    "## Sorting points by their polar angle from P0 - O(nlogn)\n",
    "Unties in favor of the ones that are more distant to the pivot (P0)"
   ]
  },
  {
   "cell_type": "code",
   "execution_count": null,
   "metadata": {},
   "outputs": [],
   "source": [
    "points_with_angle_and_distance=np.array(\n",
    "    [\n",
    "      [\n",
    "        xi,\n",
    "        yi,\n",
    "        abs(math.atan2( P0[1] - yi  ,  xi - P0[0] ) * ( 180 / math.pi )),\n",
    "        np.linalg.norm(np.array((P0[0], P0[1])) - np.array((xi, yi)))\n",
    "    ] for xi, yi in y_sorted_points]\n",
    ")\n",
    "angle_distance_sorted_points = np.array(sorted(points_with_angle_and_distance, key=lambda tup: [tup[2], tup[3]]))\n",
    "# angle_distance_sorted_points"
   ]
  },
  {
   "cell_type": "markdown",
   "metadata": {},
   "source": [
    "## Setting stack object - O(1)"
   ]
  },
  {
   "cell_type": "code",
   "execution_count": null,
   "metadata": {},
   "outputs": [],
   "source": [
    "s = []\n",
    "s.append(list(angle_distance_sorted_points[0])) #P0\n",
    "if len(angle_distance_sorted_points) > 1: s.append(list(angle_distance_sorted_points[1]))\n",
    "# s"
   ]
  },
  {
   "cell_type": "markdown",
   "metadata": {},
   "source": [
    "## Defining cross production function - O(1)"
   ]
  },
  {
   "cell_type": "code",
   "execution_count": null,
   "metadata": {},
   "outputs": [],
   "source": [
    "def cross_product(p1, p2, p3):\n",
    "  # (p2.x - p1.x)*(p3.y - p1.y) - (p3.x - p1.x)*(p2.y - p1.y)\n",
    "  return (p2[0] - p1[0])*(p3[1] - p1[1]) - (p3[0] - p1[0])*(p2[1] - p1[1])"
   ]
  },
  {
   "cell_type": "markdown",
   "metadata": {},
   "source": [
    "## Applying Graham's Scan - O(n)"
   ]
  },
  {
   "cell_type": "code",
   "execution_count": null,
   "metadata": {},
   "outputs": [],
   "source": [
    "for i in range(2, len(angle_distance_sorted_points)):\n",
    "  o = cross_product(s[-2], s[-1], angle_distance_sorted_points[i])\n",
    "  if o == 0:\n",
    "    s.pop()\n",
    "    s.append(list(angle_distance_sorted_points[i]))\n",
    "  elif o > 0:\n",
    "    s.append(list(angle_distance_sorted_points[i]))\n",
    "  else:\n",
    "    while o <= 0 and len(s) > 2:\n",
    "      s.pop()\n",
    "      o = cross_product(s[-2], s[-1], angle_distance_sorted_points[i])\n",
    "    s.append(list(angle_distance_sorted_points[i]))\n",
    "s.append(list(angle_distance_sorted_points[0]))"
   ]
  },
  {
   "cell_type": "markdown",
   "metadata": {},
   "source": [
    "Calculating execution time"
   ]
  },
  {
   "cell_type": "code",
   "execution_count": null,
   "metadata": {},
   "outputs": [],
   "source": [
    "end = time.time()\n",
    "print(end - start)"
   ]
  },
  {
   "cell_type": "markdown",
   "metadata": {},
   "source": [
    "# Plotting graphics displaying the results"
   ]
  },
  {
   "cell_type": "code",
   "execution_count": null,
   "metadata": {},
   "outputs": [],
   "source": [
    "fig = go.Figure()\n",
    "fig.add_trace(go.Scatter(x=points[:,0], y=points[:,1], text=[f\"P({x},{y})\" for x,y in points],\n",
    "                    textposition=\"bottom center\",\n",
    "                    mode='markers+text', name='internal points'))\n",
    "s = np.array(s)\n",
    "fig.add_trace(go.Scatter(x=s[:,0], y=s[:,1],\n",
    "                    mode='lines+markers',\n",
    "                    name='hull convex points'))\n",
    "fig.update_layout(autosize=False, width=650, height=500, margin=dict(l=25, r=25, b=25, t=25, pad=2), xaxis_range=[-5,n*10], yaxis_range=[-5,n*10])"
   ]
  }
 ],
 "metadata": {
  "kernelspec": {
   "display_name": "Python 3.10.4 ('paa-convex-hull-env': venv)",
   "language": "python",
   "name": "python3"
  },
  "language_info": {
   "codemirror_mode": {
    "name": "ipython",
    "version": 3
   },
   "file_extension": ".py",
   "mimetype": "text/x-python",
   "name": "python",
   "nbconvert_exporter": "python",
   "pygments_lexer": "ipython3",
   "version": "3.10.4"
  },
  "orig_nbformat": 4,
  "vscode": {
   "interpreter": {
    "hash": "b379ad1d935a60502a72b304c475b2ef0f867363dad9912e868dd9cf37310147"
   }
  }
 },
 "nbformat": 4,
 "nbformat_minor": 2
}
